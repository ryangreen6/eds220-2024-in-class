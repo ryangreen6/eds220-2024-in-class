{
 "cells": [
  {
   "cell_type": "code",
   "execution_count": 1,
   "id": "3521b30d-7fab-4ff0-880c-d34ad1023c5b",
   "metadata": {
    "tags": []
   },
   "outputs": [],
   "source": [
    "import pandas as pd\n",
    "import numpy as np"
   ]
  },
  {
   "cell_type": "code",
   "execution_count": 2,
   "id": "579ca085-72bb-43a6-be4f-644102665925",
   "metadata": {
    "tags": []
   },
   "outputs": [
    {
     "name": "stdout",
     "output_type": "stream",
     "text": [
      "<class 'numpy.ndarray'>\n",
      "[-0.25349421 -0.05711216  0.94531477 -0.34882273] \n",
      "\n",
      "<class 'pandas.core.series.Series'>\n",
      "0   -0.253494\n",
      "1   -0.057112\n",
      "2    0.945315\n",
      "3   -0.348823\n",
      "dtype: float64\n"
     ]
    }
   ],
   "source": [
    "# A numpy array\n",
    "arr = np.random.randn(4) # random values from std normal distribution\n",
    "print(type(arr))\n",
    "print(arr, \"\\n\")\n",
    "\n",
    "# A pandas series made from the previous array\n",
    "s = pd.Series(arr)\n",
    "print(type(s))\n",
    "print(s)"
   ]
  },
  {
   "cell_type": "markdown",
   "id": "7aa466b8-b1b6-4f1c-a3f5-f14e2b33c369",
   "metadata": {},
   "source": [
    "Example: Creating a pandas.Series from a NumPy array\n",
    "Let’s create a pandas.Series from a NumPy array. To use this method we need to pass a NumPy array (or a list of objects that can be converted to NumPy types) as data. Here, we will also include the list [2023, 2024, 2025] to be used as an index:"
   ]
  },
  {
   "cell_type": "code",
   "execution_count": 11,
   "id": "fd8c7d7d-e293-4a8a-9ee5-e56d6f688b0b",
   "metadata": {
    "tags": []
   },
   "outputs": [
    {
     "data": {
      "text/plain": [
       "2023    0\n",
       "2024    1\n",
       "2025    2\n",
       "dtype: int64"
      ]
     },
     "execution_count": 11,
     "metadata": {},
     "output_type": "execute_result"
    }
   ],
   "source": [
    "# A series from a numpy array \n",
    "pd.Series(np.arange(3), index=[2023, 2024, 2025])"
   ]
  },
  {
   "cell_type": "markdown",
   "id": "17b0dfa7-e87a-442a-b4b9-6300dc2c2016",
   "metadata": {},
   "source": [
    "Example: Creating a pandas.Series from a list\n",
    "Here we create a pandas.Series from a list of strings. Remember that the index parameter is optional. If we don’t include it, the default is to make the index equal to [0,...,len(data)-1]. For example:"
   ]
  },
  {
   "cell_type": "code",
   "execution_count": 12,
   "id": "b37e7de9-bf98-446e-9ab9-3bbecdb71482",
   "metadata": {
    "tags": []
   },
   "outputs": [
    {
     "data": {
      "text/plain": [
       "0    EDS 220\n",
       "1    EDS 222\n",
       "2    EDS 223\n",
       "3    EDS 242\n",
       "dtype: object"
      ]
     },
     "execution_count": 12,
     "metadata": {},
     "output_type": "execute_result"
    }
   ],
   "source": [
    "# A series from a list of strings with default index\n",
    "pd.Series(['EDS 220', 'EDS 222', 'EDS 223', 'EDS 242'])"
   ]
  },
  {
   "cell_type": "markdown",
   "id": "7fdb4891-fb78-4d57-9f11-b04d009c86a8",
   "metadata": {},
   "source": [
    "Example: Creating a pandas.Series from a dictionary\n",
    "Recall that a dictionary is a set of key-value pairs. If we create a pandas.Series via a dictionary the keys will become the index and the values the corresponding data."
   ]
  },
  {
   "cell_type": "code",
   "execution_count": 13,
   "id": "b9b0ce69-e3cd-4de0-83a9-eb3389ea96dc",
   "metadata": {
    "tags": []
   },
   "outputs": [
    {
     "data": {
      "text/plain": [
       "key_0    2\n",
       "key_1    3\n",
       "key_2    5\n",
       "dtype: object"
      ]
     },
     "execution_count": 13,
     "metadata": {},
     "output_type": "execute_result"
    }
   ],
   "source": [
    "# Construct dictionary\n",
    "d = {'key_0':2, 'key_1':'3', 'key_2':5}\n",
    "\n",
    "# Initialize series using a dictionary\n",
    "pd.Series(d)"
   ]
  },
  {
   "cell_type": "markdown",
   "id": "a6aa26f2-c358-43ed-95bd-1664903e8c0a",
   "metadata": {},
   "source": [
    "Example: Creating a pandas.Series from a single value\n",
    "If we only provide a single number, boolean, or string as the data for the series, we need to provide an index. The value will be repeated to match the length of the index. Here, we create a series from a single float number with an index given by a list of strings:"
   ]
  },
  {
   "cell_type": "code",
   "execution_count": 14,
   "id": "9f2f4f07-f19c-483b-89b1-70c8deed5283",
   "metadata": {
    "tags": []
   },
   "outputs": [
    {
     "data": {
      "text/plain": [
       "A    3.0\n",
       "B    3.0\n",
       "C    3.0\n",
       "dtype: float64"
      ]
     },
     "execution_count": 14,
     "metadata": {},
     "output_type": "execute_result"
    }
   ],
   "source": [
    "pd.Series(3.0, index = ['A', 'B', 'C'])"
   ]
  },
  {
   "cell_type": "code",
   "execution_count": null,
   "id": "9df79faf-e815-4f90-8daa-6bf24548587c",
   "metadata": {},
   "outputs": [],
   "source": []
  }
 ],
 "metadata": {
  "kernelspec": {
   "display_name": "Anaconda 3 (Base)",
   "language": "python",
   "name": "base"
  },
  "language_info": {
   "codemirror_mode": {
    "name": "ipython",
    "version": 3
   },
   "file_extension": ".py",
   "mimetype": "text/x-python",
   "name": "python",
   "nbconvert_exporter": "python",
   "pygments_lexer": "ipython3",
   "version": "3.9.13"
  }
 },
 "nbformat": 4,
 "nbformat_minor": 5
}
