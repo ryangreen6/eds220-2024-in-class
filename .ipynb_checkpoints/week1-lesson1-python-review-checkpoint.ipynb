{
 "cells": [
  {
   "cell_type": "markdown",
   "id": "7cbd29ea-8dfc-4202-b9a1-59c784b08a05",
   "metadata": {},
   "source": [
    "# Python Review\n",
    "\n",
    "Short reivew about some core concepts in Python exemplified by obhects in the Numpy Library. \n",
    "\n",
    "Goals: \n",
    "-recall basic python vocab\n",
    "-practice markdown syntax\n",
    "\n",
    "## Libraries and Packages\n",
    "a library is a collection of code that we can use to perform specific tasks in our programs. It can be a single file or multiple files. \n",
    "\n",
    "**NumPy:**\n",
    "- core library for numerical computing in Python\n",
    "- many of libraries use Numpy arrays as theur building blocks\n",
    "- computations on Numpy objects are optimized for speed and memory usage. \n",
    "\n",
    "Let's import NumPy with its **standard abbreviation** np:"
   ]
  },
  {
   "cell_type": "code",
   "execution_count": 7,
   "id": "f63b8712-51a9-47fc-be92-3e7c385a41a7",
   "metadata": {
    "tags": []
   },
   "outputs": [],
   "source": [
    "import numpy as np"
   ]
  },
  {
   "cell_type": "markdown",
   "id": "66d094a5-8b3e-4f30-be0f-f1644787955f",
   "metadata": {},
   "source": [
    "## Variables \n",
    "**variable:** a name we assign to a particular object in Python\n",
    "-- Example:"
   ]
  },
  {
   "cell_type": "code",
   "execution_count": 8,
   "id": "20b0f65a-b7c6-4673-9e52-11d728d8837e",
   "metadata": {
    "tags": []
   },
   "outputs": [],
   "source": [
    "# Assign a small array to variable a\n",
    "a = np.array([[1,1,2],[3,5,8]])"
   ]
  },
  {
   "cell_type": "code",
   "execution_count": 9,
   "id": "e22f8f83-49ab-49ab-9e73-5522b1ed92a6",
   "metadata": {
    "tags": []
   },
   "outputs": [
    {
     "data": {
      "text/plain": [
       "array([[1, 1, 2],\n",
       "       [3, 5, 8]])"
      ]
     },
     "execution_count": 9,
     "metadata": {},
     "output_type": "execute_result"
    }
   ],
   "source": [
    "a"
   ]
  },
  {
   "cell_type": "code",
   "execution_count": 10,
   "id": "20fc5770-0e32-4707-b44a-af20a4cde455",
   "metadata": {
    "tags": []
   },
   "outputs": [
    {
     "name": "stdout",
     "output_type": "stream",
     "text": [
      "[[1 1 2]\n",
      " [3 5 8]]\n"
     ]
    }
   ],
   "source": [
    "print(a)"
   ]
  },
  {
   "cell_type": "code",
   "execution_count": null,
   "id": "632c517e-68bc-4820-a357-5654de8d7029",
   "metadata": {
    "tags": []
   },
   "outputs": [],
   "source": []
  }
 ],
 "metadata": {
  "kernelspec": {
   "display_name": "Anaconda 3 (Base)",
   "language": "python",
   "name": "base"
  },
  "language_info": {
   "codemirror_mode": {
    "name": "ipython",
    "version": 3
   },
   "file_extension": ".py",
   "mimetype": "text/x-python",
   "name": "python",
   "nbconvert_exporter": "python",
   "pygments_lexer": "ipython3",
   "version": "3.9.13"
  }
 },
 "nbformat": 4,
 "nbformat_minor": 5
}
