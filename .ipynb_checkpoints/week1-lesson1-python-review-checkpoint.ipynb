{
 "cells": [
  {
   "cell_type": "markdown",
   "id": "7cbd29ea-8dfc-4202-b9a1-59c784b08a05",
   "metadata": {},
   "source": [
    "# Python Review\n",
    "\n",
    "Short reivew about some core concepts in Python exemplified by obhects in the Numpy Library. \n",
    "\n",
    "Goals: \n",
    "-recall basic python vocab\n",
    "-practice markdown syntax\n",
    "\n",
    "## Libraries and Packages\n",
    "a library is a collection of code that we can use to perform specific tasks in our programs. It can be a single file or multiple files. \n",
    "\n",
    "**NumPy:**\n",
    "- core library for numerical computing in Python\n",
    "- many of libraries use Numpy arrays as theur building blocks\n",
    "- computations on Numpy objects are optimized for speed and memory usage. \n",
    "\n",
    "Let's import NumPy with its **standard abbreviation** np:"
   ]
  },
  {
   "cell_type": "code",
   "execution_count": 1,
   "id": "f63b8712-51a9-47fc-be92-3e7c385a41a7",
   "metadata": {
    "tags": []
   },
   "outputs": [],
   "source": [
    "import numpy as np"
   ]
  },
  {
   "cell_type": "markdown",
   "id": "66d094a5-8b3e-4f30-be0f-f1644787955f",
   "metadata": {},
   "source": [
    "## Variables \n",
    "**variable:** a name we assign to a particular object in Python\n",
    "-- Example:"
   ]
  },
  {
   "cell_type": "code",
   "execution_count": 2,
   "id": "20b0f65a-b7c6-4673-9e52-11d728d8837e",
   "metadata": {
    "tags": []
   },
   "outputs": [],
   "source": [
    "# Assign a small array to variable a\n",
    "a = np.array([[1,1,2],[3,5,8]])"
   ]
  },
  {
   "cell_type": "code",
   "execution_count": 3,
   "id": "e22f8f83-49ab-49ab-9e73-5522b1ed92a6",
   "metadata": {
    "tags": []
   },
   "outputs": [
    {
     "data": {
      "text/plain": [
       "array([[1, 1, 2],\n",
       "       [3, 5, 8]])"
      ]
     },
     "execution_count": 3,
     "metadata": {},
     "output_type": "execute_result"
    }
   ],
   "source": [
    "a"
   ]
  },
  {
   "cell_type": "code",
   "execution_count": 4,
   "id": "20fc5770-0e32-4707-b44a-af20a4cde455",
   "metadata": {
    "tags": []
   },
   "outputs": [
    {
     "name": "stdout",
     "output_type": "stream",
     "text": [
      "[[1 1 2]\n",
      " [3 5 8]]\n"
     ]
    }
   ],
   "source": [
    "print(a)"
   ]
  },
  {
   "cell_type": "markdown",
   "id": "6fd16d46-c632-4e5c-a35a-f11ab7bce562",
   "metadata": {
    "tags": []
   },
   "source": [
    "## Convention: Use `snake_case` for naming variables.\n",
    "\n",
    "This is the convention we will use in this course. \n",
    "\n",
    "**Remember that varialbe names should be both descriptive and concise!**\n",
    "\n",
    "## Objects\n",
    "\n",
    "**object:** is a bundle of properties and actions about something specific. \n",
    "\n",
    "Exmaple:\n",
    "\n",
    "Object: data frame\n",
    "Properties: number of rows, names of columns, and date created\n",
    "Actions: selecting a specific row or adding a new column\n",
    "\n",
    "A variable is the name we give a specific object, and the same object can be referenced by different variables. \n",
    "\n",
    "In practice, we can often use the word variable and object interchangeably. \n",
    "\n",
    "## Types  \n",
    "\n",
    "Every object in Python has a type. The type tells us what kind of object we have. \n",
    "We can also call the tyoe of an object the **class** of an object. Class and Object both mean what kind of object we have. \n"
   ]
  },
  {
   "cell_type": "code",
   "execution_count": 5,
   "id": "20299515-3314-45e1-a2db-1c1c11f41706",
   "metadata": {
    "tags": []
   },
   "outputs": [
    {
     "name": "stdout",
     "output_type": "stream",
     "text": [
      "[[1 1 2]\n",
      " [3 5 8]]\n"
     ]
    }
   ],
   "source": [
    "print(a)"
   ]
  },
  {
   "cell_type": "code",
   "execution_count": 6,
   "id": "2b480450-16b0-4c2a-aa74-445a9faaa612",
   "metadata": {
    "tags": []
   },
   "outputs": [
    {
     "data": {
      "text/plain": [
       "numpy.ndarray"
      ]
     },
     "execution_count": 6,
     "metadata": {},
     "output_type": "execute_result"
    }
   ],
   "source": [
    "type(a)"
   ]
  },
  {
   "cell_type": "markdown",
   "id": "8ca03c82-2923-4ca3-968d-e8d65a5ecc4a",
   "metadata": {},
   "source": [
    "The `numpy.ndarray` is the core object/ data type of the NumPy package. "
   ]
  },
  {
   "cell_type": "code",
   "execution_count": 7,
   "id": "59c44b59-c841-4e9f-8421-36d763ba93ce",
   "metadata": {
    "tags": []
   },
   "outputs": [
    {
     "data": {
      "text/plain": [
       "numpy.int64"
      ]
     },
     "execution_count": 7,
     "metadata": {},
     "output_type": "execute_result"
    }
   ],
   "source": [
    "type(a[0,0])"
   ]
  },
  {
   "cell_type": "markdown",
   "id": "1342d692-924e-43c8-a823-124d9a0bb23e",
   "metadata": {},
   "source": [
    "The `numpy.int64` is not the standard Python integer type `int`.\n",
    "`numpy.int64` is a special data type in Numpy telling us that 1 is an integer stored as a 64-bit number. \n",
    "\n",
    "Check-in: access the value 5 in array `a`."
   ]
  },
  {
   "cell_type": "code",
   "execution_count": 10,
   "id": "b81d38e3-259f-4ad1-8570-6545235dc6aa",
   "metadata": {
    "tags": []
   },
   "outputs": [
    {
     "name": "stdout",
     "output_type": "stream",
     "text": [
      "5\n"
     ]
    }
   ],
   "source": [
    "print(a[1,1])"
   ]
  },
  {
   "cell_type": "markdown",
   "id": "3843b224-df38-4bcc-9316-11a520a63358",
   "metadata": {},
   "source": [
    "## Functions\n",
    "\n",
    "`print` was our first example of a python function. \n",
    "Functions take in a set of arguments, separated by commas, adnt hey use those arguments to create an output. \n",
    "In this course we will be using argument and parameter interchangeably. But, they do have slightly different meanings. \n",
    "We can ask for info about what a function does by executing ? followed by the function name."
   ]
  },
  {
   "cell_type": "code",
   "execution_count": 11,
   "id": "a9e7ff30-05bc-4ff7-8ef5-2332ae2da05a",
   "metadata": {
    "tags": []
   },
   "outputs": [
    {
     "data": {
      "text/plain": [
       "\u001b[0;31mDocstring:\u001b[0m\n",
       "print(value, ..., sep=' ', end='\\n', file=sys.stdout, flush=False)\n",
       "\n",
       "Prints the values to a stream, or to sys.stdout by default.\n",
       "Optional keyword arguments:\n",
       "file:  a file-like object (stream); defaults to the current sys.stdout.\n",
       "sep:   string inserted between values, default a space.\n",
       "end:   string appended after the last value, default a newline.\n",
       "flush: whether to forcibly flush the stream.\n",
       "\u001b[0;31mType:\u001b[0m      builtin_function_or_method\n"
      ]
     },
     "metadata": {},
     "output_type": "display_data"
    }
   ],
   "source": [
    "?print"
   ]
  },
  {
   "cell_type": "markdown",
   "id": "3f87cd26-de71-4343-88ea-36f9e5a21e25",
   "metadata": {
    "tags": []
   },
   "source": [
    "What we get is a **docstring**, a special type of comment that is used to document how a function (or a class or module) works. \n",
    "\n",
    "Notice that there are different types of arguments inside the function parenthesis. \n",
    "\n",
    "Roughly speaking, a function has two types of arguments:\n",
    "\n",
    "- **non optional arguments**: arguments you have to specify for the function to work.\n",
    "- **optional arguments:** arguments that are pre-filled with a default value by the function, but you can override them. Optional arguments appear inside the parenthesis in the form `optional_argument = default_value`.\n",
    "\n",
    "Example:\n",
    "\n",
    "`end` is a parameter in `print` with default value a new line. \n",
    "We can pass the value `:)` to this parameter so that it finishes the line with `:)` instead:"
   ]
  },
  {
   "cell_type": "code",
   "execution_count": 17,
   "id": "f3e209b8-2b08-4705-82bc-7d1815b52216",
   "metadata": {
    "tags": []
   },
   "outputs": [
    {
     "name": "stdout",
     "output_type": "stream",
     "text": [
      "change the end parameter :)"
     ]
    }
   ],
   "source": [
    "print('change the end parameter', end=\" :)\")"
   ]
  },
  {
   "cell_type": "markdown",
   "id": "64c1a4d3-d80b-4194-82fe-bf3ab6b956ad",
   "metadata": {},
   "source": [
    "## Attributes and Methods\n",
    "\n",
    "an Object in Python has attributes and methods. \n",
    "\n",
    "- attributes: a property of the object, some piece of info from it.\n",
    "- method: a procedure associated with an object, so it is an action where the main ingredient is the object itself. \n",
    "\n",
    "## Check In:\n",
    "\n",
    "Make a diagram like the cat one for a class called `fish`. \n",
    "We made a diagram lol.\n"
   ]
  },
  {
   "cell_type": "markdown",
   "id": "b57fd59a-93be-406a-a9f2-ed41cbc897ef",
   "metadata": {},
   "source": [
    "Numpy Arrays have many methods and attributes. For example:"
   ]
  },
  {
   "cell_type": "code",
   "execution_count": 18,
   "id": "20284955-3711-4f2a-9155-7fee0b57fe4d",
   "metadata": {
    "tags": []
   },
   "outputs": [
    {
     "data": {
      "text/plain": [
       "array([[1, 1, 2],\n",
       "       [3, 5, 8]])"
      ]
     },
     "execution_count": 18,
     "metadata": {},
     "output_type": "execute_result"
    }
   ],
   "source": [
    "a"
   ]
  },
  {
   "cell_type": "code",
   "execution_count": 19,
   "id": "62e7e86a-d30a-428c-beec-43cb27ab2bd8",
   "metadata": {
    "tags": []
   },
   "outputs": [
    {
     "name": "stdout",
     "output_type": "stream",
     "text": [
      "[[1 3]\n",
      " [1 5]\n",
      " [2 8]]\n"
     ]
    }
   ],
   "source": [
    "# T is an exmaple of an attribute, it returns the transpose of an array:\n",
    "print(a.T)"
   ]
  },
  {
   "cell_type": "code",
   "execution_count": 20,
   "id": "b659016a-e4bb-49a2-bd28-a2b2fcc72da2",
   "metadata": {
    "tags": []
   },
   "outputs": [
    {
     "data": {
      "text/plain": [
       "numpy.ndarray"
      ]
     },
     "execution_count": 20,
     "metadata": {},
     "output_type": "execute_result"
    }
   ],
   "source": [
    "type(a.T)"
   ]
  },
  {
   "cell_type": "code",
   "execution_count": 22,
   "id": "4f3238d5-c00f-4242-958e-77803c017c4f",
   "metadata": {
    "tags": []
   },
   "outputs": [
    {
     "name": "stdout",
     "output_type": "stream",
     "text": [
      "(2, 3)\n",
      "<class 'tuple'>\n"
     ]
    }
   ],
   "source": [
    "# shape is another attribute that tells us the shape of the array\n",
    "print(a.shape)\n",
    "print(type(a.shape))"
   ]
  },
  {
   "cell_type": "code",
   "execution_count": 23,
   "id": "3f5e8b16-2ef3-40d7-a05b-21b9297e6263",
   "metadata": {
    "tags": []
   },
   "outputs": [
    {
     "name": "stdout",
     "output_type": "stream",
     "text": [
      "dim 2 | type: <class 'int'>\n"
     ]
    }
   ],
   "source": [
    "# ndim is an attribute holding the number of array dimenstions.\n",
    "print('dim', a.ndim, '| type:', type(a.ndim))"
   ]
  },
  {
   "cell_type": "markdown",
   "id": "f8ff9f89-287f-4029-aa17-b6fa66060cbb",
   "metadata": {},
   "source": [
    "Attributes can have many different data types. \n",
    "Some examples of methods:"
   ]
  },
  {
   "cell_type": "code",
   "execution_count": 31,
   "id": "126a840f-8be7-4d7a-9e94-584ce2581e89",
   "metadata": {
    "tags": []
   },
   "outputs": [
    {
     "name": "stdout",
     "output_type": "stream",
     "text": [
      "[[1 1 2]\n",
      " [3 5 8]]\n"
     ]
    },
    {
     "data": {
      "text/plain": [
       "array([1, 1, 2])"
      ]
     },
     "execution_count": 31,
     "metadata": {},
     "output_type": "execute_result"
    }
   ],
   "source": [
    "# the min method returns the minimum value in the array along a specified axis. \n",
    "print(a)\n",
    "a.min(axis=0)"
   ]
  },
  {
   "cell_type": "markdown",
   "id": "7336581f-5b8a-43bd-ab9b-2a172ce0b843",
   "metadata": {},
   "source": [
    "Remember, methods are functions associated with an object. We can confirm this!"
   ]
  },
  {
   "cell_type": "code",
   "execution_count": 34,
   "id": "25cf365a-0d1e-44b6-a168-4b506d00e655",
   "metadata": {
    "tags": []
   },
   "outputs": [
    {
     "data": {
      "text/plain": [
       "[[1, 1, 2], [3, 5, 8]]"
      ]
     },
     "execution_count": 34,
     "metadata": {},
     "output_type": "execute_result"
    }
   ],
   "source": [
    "# method tolist() transforms array into a list:\n",
    "a.tolist()"
   ]
  },
  {
   "cell_type": "code",
   "execution_count": 35,
   "id": "cd02acec-9d04-45fc-86b8-328bcf22c87d",
   "metadata": {
    "tags": []
   },
   "outputs": [
    {
     "data": {
      "text/plain": [
       "list"
      ]
     },
     "execution_count": 35,
     "metadata": {},
     "output_type": "execute_result"
    }
   ],
   "source": [
    "type(a.tolist())"
   ]
  },
  {
   "cell_type": "markdown",
   "id": "a43e5c0b-5db9-48bf-8bb0-32c2c73bea55",
   "metadata": {},
   "source": [
    "Exercise:\n",
    "\n",
    "1. Read the print function help. What is the type of the argument `sep`? Is this a default argument or no? Why?\n",
    "`sep` is an optional default\n",
    "\n",
    "2. Create two new variables, one with the integer value 77 and another one with the string 99. \n",
    "\n",
    "3. Use your variables to print 77%99%77 by changing the value of one of the default arguments in print."
   ]
  },
  {
   "cell_type": "code",
   "execution_count": 36,
   "id": "c7b05b7e-c886-4fb4-af4f-0058c2ef43e9",
   "metadata": {
    "tags": []
   },
   "outputs": [
    {
     "data": {
      "text/plain": [
       "\u001b[0;31mDocstring:\u001b[0m\n",
       "print(value, ..., sep=' ', end='\\n', file=sys.stdout, flush=False)\n",
       "\n",
       "Prints the values to a stream, or to sys.stdout by default.\n",
       "Optional keyword arguments:\n",
       "file:  a file-like object (stream); defaults to the current sys.stdout.\n",
       "sep:   string inserted between values, default a space.\n",
       "end:   string appended after the last value, default a newline.\n",
       "flush: whether to forcibly flush the stream.\n",
       "\u001b[0;31mType:\u001b[0m      builtin_function_or_method\n"
      ]
     },
     "metadata": {},
     "output_type": "display_data"
    }
   ],
   "source": [
    "?print"
   ]
  },
  {
   "cell_type": "code",
   "execution_count": 37,
   "id": "dd543bef-b4cf-4d46-b663-40b2da4c8749",
   "metadata": {
    "tags": []
   },
   "outputs": [],
   "source": [
    "a = 77"
   ]
  },
  {
   "cell_type": "code",
   "execution_count": 39,
   "id": "7185fb6e-7f7e-4ec3-84c5-9530b0d065de",
   "metadata": {
    "tags": []
   },
   "outputs": [
    {
     "data": {
      "text/plain": [
       "int"
      ]
     },
     "execution_count": 39,
     "metadata": {},
     "output_type": "execute_result"
    }
   ],
   "source": [
    "type(a)"
   ]
  },
  {
   "cell_type": "code",
   "execution_count": 40,
   "id": "b41e8193-1a41-400f-9b63-0a4e2df3a1f6",
   "metadata": {
    "tags": []
   },
   "outputs": [],
   "source": [
    "b = \"99\""
   ]
  },
  {
   "cell_type": "code",
   "execution_count": 41,
   "id": "4bd3e135-4b8b-41b0-810f-7ddce02b29e3",
   "metadata": {
    "tags": []
   },
   "outputs": [
    {
     "data": {
      "text/plain": [
       "'99'"
      ]
     },
     "execution_count": 41,
     "metadata": {},
     "output_type": "execute_result"
    }
   ],
   "source": [
    "b"
   ]
  },
  {
   "cell_type": "code",
   "execution_count": 43,
   "id": "fb4f29cb-6d9c-4006-b93f-c74d8768b195",
   "metadata": {
    "tags": []
   },
   "outputs": [
    {
     "data": {
      "text/plain": [
       "str"
      ]
     },
     "execution_count": 43,
     "metadata": {},
     "output_type": "execute_result"
    }
   ],
   "source": [
    "type(b)"
   ]
  },
  {
   "cell_type": "code",
   "execution_count": 48,
   "id": "22df95d3-3feb-467b-b76e-602c616594d3",
   "metadata": {
    "tags": []
   },
   "outputs": [
    {
     "name": "stdout",
     "output_type": "stream",
     "text": [
      "77%99%77\n"
     ]
    }
   ],
   "source": [
    "print(a, b, a, sep='%')"
   ]
  },
  {
   "cell_type": "markdown",
   "id": "ca3a2ad4-1a1f-4e10-b253-fb9d52ae9987",
   "metadata": {},
   "source": [
    "1. The integer number -999 is often used to represent missing values. Create a pandas.Series named s with four integer values, two of which are -999. The index of this series should be the the letters A through D.\n",
    "\n",
    "\n",
    "\n",
    "2. In the pandas.Series documentation, look for the method mask(). Use this method to update the series s so that the -999 values are replaced by NA values. HINT: check the first example in the method’s documentation.\n"
   ]
  },
  {
   "cell_type": "code",
   "execution_count": 62,
   "id": "50a16239-3d79-4609-819e-b3282e684dd3",
   "metadata": {
    "tags": []
   },
   "outputs": [],
   "source": [
    "import pandas as pd\n",
    "s = pd.Series([1, 2, -999, -999], ['A', 'B', 'C', 'D'])"
   ]
  },
  {
   "cell_type": "code",
   "execution_count": 63,
   "id": "a24c0434-447e-4d12-a2ae-dcb2ea7935aa",
   "metadata": {
    "tags": []
   },
   "outputs": [
    {
     "data": {
      "text/plain": [
       "A      1\n",
       "B      2\n",
       "C   -999\n",
       "D   -999\n",
       "dtype: int64"
      ]
     },
     "execution_count": 63,
     "metadata": {},
     "output_type": "execute_result"
    }
   ],
   "source": [
    "s"
   ]
  },
  {
   "cell_type": "code",
   "execution_count": 67,
   "id": "abb2ded2-f550-407e-a45f-fe5d2bdf5a30",
   "metadata": {
    "tags": []
   },
   "outputs": [
    {
     "data": {
      "text/plain": [
       "A    1.0\n",
       "B    2.0\n",
       "C    NaN\n",
       "D    NaN\n",
       "dtype: float64"
      ]
     },
     "execution_count": 67,
     "metadata": {},
     "output_type": "execute_result"
    }
   ],
   "source": [
    "s = s.mask(s<0)\n",
    "s"
   ]
  },
  {
   "cell_type": "markdown",
   "id": "15d5dada-93c9-4ca2-af3d-168c0cfdb401",
   "metadata": {},
   "source": [
    "3. We can access the data frame’s column names via the columns attribute. Update the column names to C1 and C2 by updating this attribute."
   ]
  },
  {
   "cell_type": "code",
   "execution_count": 68,
   "id": "13ce9e53-dc47-4652-86bf-575d9b963fb0",
   "metadata": {
    "tags": []
   },
   "outputs": [
    {
     "data": {
      "text/html": [
       "<div>\n",
       "<style scoped>\n",
       "    .dataframe tbody tr th:only-of-type {\n",
       "        vertical-align: middle;\n",
       "    }\n",
       "\n",
       "    .dataframe tbody tr th {\n",
       "        vertical-align: top;\n",
       "    }\n",
       "\n",
       "    .dataframe thead th {\n",
       "        text-align: right;\n",
       "    }\n",
       "</style>\n",
       "<table border=\"1\" class=\"dataframe\">\n",
       "  <thead>\n",
       "    <tr style=\"text-align: right;\">\n",
       "      <th></th>\n",
       "      <th>col_name_1</th>\n",
       "      <th>col_name_2</th>\n",
       "    </tr>\n",
       "  </thead>\n",
       "  <tbody>\n",
       "    <tr>\n",
       "      <th>0</th>\n",
       "      <td>0</td>\n",
       "      <td>3.1</td>\n",
       "    </tr>\n",
       "    <tr>\n",
       "      <th>1</th>\n",
       "      <td>1</td>\n",
       "      <td>3.2</td>\n",
       "    </tr>\n",
       "    <tr>\n",
       "      <th>2</th>\n",
       "      <td>2</td>\n",
       "      <td>3.3</td>\n",
       "    </tr>\n",
       "  </tbody>\n",
       "</table>\n",
       "</div>"
      ],
      "text/plain": [
       "   col_name_1  col_name_2\n",
       "0           0         3.1\n",
       "1           1         3.2\n",
       "2           2         3.3"
      ]
     },
     "execution_count": 68,
     "metadata": {},
     "output_type": "execute_result"
    }
   ],
   "source": [
    "# Initialize dictionary with columns' data \n",
    "d = {'col_name_1' : pd.Series(np.arange(3)),\n",
    "     'col_name_2' : pd.Series([3.1, 3.2, 3.3]),\n",
    "     }\n",
    "\n",
    "# Create data frame\n",
    "df = pd.DataFrame(d)\n",
    "df"
   ]
  },
  {
   "cell_type": "code",
   "execution_count": 69,
   "id": "373df820-b73a-4750-a818-ef905a3fb24d",
   "metadata": {
    "tags": []
   },
   "outputs": [
    {
     "data": {
      "text/html": [
       "<div>\n",
       "<style scoped>\n",
       "    .dataframe tbody tr th:only-of-type {\n",
       "        vertical-align: middle;\n",
       "    }\n",
       "\n",
       "    .dataframe tbody tr th {\n",
       "        vertical-align: top;\n",
       "    }\n",
       "\n",
       "    .dataframe thead th {\n",
       "        text-align: right;\n",
       "    }\n",
       "</style>\n",
       "<table border=\"1\" class=\"dataframe\">\n",
       "  <thead>\n",
       "    <tr style=\"text-align: right;\">\n",
       "      <th></th>\n",
       "      <th>col_name_1</th>\n",
       "      <th>col_name_2</th>\n",
       "    </tr>\n",
       "  </thead>\n",
       "  <tbody>\n",
       "    <tr>\n",
       "      <th>a</th>\n",
       "      <td>0</td>\n",
       "      <td>3.1</td>\n",
       "    </tr>\n",
       "    <tr>\n",
       "      <th>b</th>\n",
       "      <td>1</td>\n",
       "      <td>3.2</td>\n",
       "    </tr>\n",
       "    <tr>\n",
       "      <th>c</th>\n",
       "      <td>2</td>\n",
       "      <td>3.3</td>\n",
       "    </tr>\n",
       "  </tbody>\n",
       "</table>\n",
       "</div>"
      ],
      "text/plain": [
       "   col_name_1  col_name_2\n",
       "a           0         3.1\n",
       "b           1         3.2\n",
       "c           2         3.3"
      ]
     },
     "execution_count": 69,
     "metadata": {},
     "output_type": "execute_result"
    }
   ],
   "source": [
    "# Change index\n",
    "df.index = ['a','b','c']\n",
    "df"
   ]
  },
  {
   "cell_type": "code",
   "execution_count": 73,
   "id": "989813e5-61bc-4893-9f41-4ebeb714028a",
   "metadata": {
    "tags": []
   },
   "outputs": [
    {
     "data": {
      "text/html": [
       "<div>\n",
       "<style scoped>\n",
       "    .dataframe tbody tr th:only-of-type {\n",
       "        vertical-align: middle;\n",
       "    }\n",
       "\n",
       "    .dataframe tbody tr th {\n",
       "        vertical-align: top;\n",
       "    }\n",
       "\n",
       "    .dataframe thead th {\n",
       "        text-align: right;\n",
       "    }\n",
       "</style>\n",
       "<table border=\"1\" class=\"dataframe\">\n",
       "  <thead>\n",
       "    <tr style=\"text-align: right;\">\n",
       "      <th></th>\n",
       "      <th>C1</th>\n",
       "      <th>C2</th>\n",
       "    </tr>\n",
       "  </thead>\n",
       "  <tbody>\n",
       "    <tr>\n",
       "      <th>a</th>\n",
       "      <td>0</td>\n",
       "      <td>3.1</td>\n",
       "    </tr>\n",
       "    <tr>\n",
       "      <th>b</th>\n",
       "      <td>1</td>\n",
       "      <td>3.2</td>\n",
       "    </tr>\n",
       "    <tr>\n",
       "      <th>c</th>\n",
       "      <td>2</td>\n",
       "      <td>3.3</td>\n",
       "    </tr>\n",
       "  </tbody>\n",
       "</table>\n",
       "</div>"
      ],
      "text/plain": [
       "   C1   C2\n",
       "a   0  3.1\n",
       "b   1  3.2\n",
       "c   2  3.3"
      ]
     },
     "execution_count": 73,
     "metadata": {},
     "output_type": "execute_result"
    }
   ],
   "source": [
    "df.columns = ['C1', 'C2']\n",
    "df"
   ]
  },
  {
   "cell_type": "code",
   "execution_count": null,
   "id": "e443be75-0996-4d54-8bb3-bfbbe763917c",
   "metadata": {},
   "outputs": [],
   "source": []
  }
 ],
 "metadata": {
  "kernelspec": {
   "display_name": "Anaconda 3 (Base)",
   "language": "python",
   "name": "base"
  },
  "language_info": {
   "codemirror_mode": {
    "name": "ipython",
    "version": 3
   },
   "file_extension": ".py",
   "mimetype": "text/x-python",
   "name": "python",
   "nbconvert_exporter": "python",
   "pygments_lexer": "ipython3",
   "version": "3.9.13"
  }
 },
 "nbformat": 4,
 "nbformat_minor": 5
}
