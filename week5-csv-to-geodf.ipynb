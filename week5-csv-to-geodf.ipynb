{
 "cells": [
  {
   "cell_type": "markdown",
   "id": "0af4bbb0-05c6-4053-9d07-2d5c4e89c5df",
   "metadata": {},
   "source": [
    "## CSV to `GeoDataFrame`\n",
    "\n",
    "Start with importing packages and updating viewing options"
   ]
  },
  {
   "cell_type": "code",
   "execution_count": null,
   "id": "1e6dae83-3b85-4427-abc4-73844b5a44f1",
   "metadata": {},
   "outputs": [],
   "source": [
    "import os\n",
    "import pandas as pd\n",
    "from "
   ]
  }
 ],
 "metadata": {
  "kernelspec": {
   "display_name": "Anaconda 3 (Base)",
   "language": "python",
   "name": "base"
  },
  "language_info": {
   "codemirror_mode": {
    "name": "ipython",
    "version": 3
   },
   "file_extension": ".py",
   "mimetype": "text/x-python",
   "name": "python",
   "nbconvert_exporter": "python",
   "pygments_lexer": "ipython3",
   "version": "3.9.13"
  }
 },
 "nbformat": 4,
 "nbformat_minor": 5
}
